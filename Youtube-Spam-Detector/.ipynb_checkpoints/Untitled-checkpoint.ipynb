{
 "cells": [
  {
   "cell_type": "code",
   "execution_count": 1,
   "metadata": {},
   "outputs": [
    {
     "ename": "IndentationError",
     "evalue": "expected an indented block (<ipython-input-1-11d945796327>, line 46)",
     "output_type": "error",
     "traceback": [
      "\u001b[0;36m  File \u001b[0;32m\"<ipython-input-1-11d945796327>\"\u001b[0;36m, line \u001b[0;32m46\u001b[0m\n\u001b[0;31m    app.run(debug=True,host=\"10.100.110.101\",port=1234)\u001b[0m\n\u001b[0m      ^\u001b[0m\n\u001b[0;31mIndentationError\u001b[0m\u001b[0;31m:\u001b[0m expected an indented block\n"
     ]
    }
   ],
   "source": [
    "from flask import Flask,render_template,url_for,request\n",
    "import pandas as pd \n",
    "import pickle\n",
    "from sklearn.feature_extraction.text import CountVectorizer\n",
    "from sklearn.naive_bayes import MultinomialNB\n",
    "from sklearn.externals import joblib\n",
    "\n",
    "\n",
    "app = Flask(__name__)\n",
    "\n",
    "@app.route('/')\n",
    "def home():\n",
    "    return render_template('home.html')\n",
    "\n",
    "@app.route('/predict',methods=['POST'])\n",
    "\n",
    "\n",
    "def predict():\n",
    "    df= pd.read_csv(\"YoutubeSpamMergedData.csv\")\n",
    "    df_data = df[[\"CONTENT\",\"CLASS\"]]\n",
    "    # Features and Labels\n",
    "    df_x = df_data['CONTENT']\n",
    "    df_y = df_data.CLASS\n",
    "        # Extract Feature With CountVectorizer\n",
    "    corpus = df_x\n",
    "    cv = CountVectorizer()\n",
    "    X = cv.fit_transform(corpus) # Fit the Data\n",
    "    from sklearn.model_selection import train_test_split\n",
    "    X_train, X_test, y_train, y_test = train_test_split(X, df_y, test_size=0.33, random_state=42)\n",
    "\n",
    "    model = open(\"naivebayes_spam_model.pkl\",\"rb\")\n",
    "    clf = joblib.load(model)\n",
    "\n",
    "\n",
    "    if request.method == 'POST':\n",
    "        comment = request.form['comment']\n",
    "        data = [comment]\n",
    "        vect = cv.transform(data).toarray()\n",
    "        my_prediction = clf.predict(vect)\n",
    "\n",
    "    return render_template('result.html',prediction = my_prediction)\n",
    "\n",
    "\n",
    "\n",
    "if __name__ == '__main__':\n",
    "    app.run(debug=True,host=\"10.100.110.101\",port=1234)\n",
    "\n"
   ]
  }
 ],
 "metadata": {
  "kernelspec": {
   "display_name": "Python 3",
   "language": "python",
   "name": "python3"
  },
  "language_info": {
   "codemirror_mode": {
    "name": "ipython",
    "version": 3
   },
   "file_extension": ".py",
   "mimetype": "text/x-python",
   "name": "python",
   "nbconvert_exporter": "python",
   "pygments_lexer": "ipython3",
   "version": "3.6.2"
  }
 },
 "nbformat": 4,
 "nbformat_minor": 2
}
