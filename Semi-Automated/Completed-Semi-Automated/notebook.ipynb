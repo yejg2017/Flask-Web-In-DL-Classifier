{
 "cells": [
  {
   "cell_type": "code",
   "execution_count": null,
   "metadata": {
    "collapsed": true
   },
   "outputs": [],
   "source": [
    "# Flask Packages\n",
    "from flask import Flask,render_template,request,url_for\n",
    "from flask_bootstrap import Bootstrap \n",
    "from flask_uploads import UploadSet,configure_uploads,IMAGES,DATA,ALL\n",
    "from flask_sqlalchemy import SQLAlchemy \n",
    "\n",
    "from werkzeug import secure_filename\n",
    "import os\n",
    "import datetime\n",
    "import time\n",
    "\n",
    "\n",
    "# EDA Packages\n",
    "import pandas as pd \n",
    "import numpy as np \n",
    "\n",
    "# ML Packages\n",
    "from sklearn import model_selection\n",
    "from sklearn.linear_model import LogisticRegression\n",
    "from sklearn.tree import DecisionTreeClassifier\n",
    "from sklearn.neighbors import KNeighborsClassifier\n",
    "from sklearn.discriminant_analysis import LinearDiscriminantAnalysis\n",
    "from sklearn.naive_bayes import GaussianNB\n",
    "from sklearn.svm import SVC\n",
    "\n",
    "\n",
    "# ML Packages For Vectorization of Text For Feature Extraction\n",
    "from sklearn.feature_extraction.text import CountVectorizer\n",
    "from sklearn.feature_extraction.text import TfidfVectorizer"
   ]
  },
  {
   "cell_type": "code",
   "execution_count": null,
   "metadata": {
    "collapsed": true
   },
   "outputs": [],
   "source": [
    "app=Flask(__name__)\n",
    "Boostrap(app)\n",
    "db=SQLAlchemy(app)\n",
    "\n",
    "# Configuration for File Uploads\n",
    "files=UploadSet(\"files\",ALL)\n",
    "app.config[\"UPLOADED_FILES_DEST\"]=\"./static/uploadsDB/\"\n",
    "configure_uploads(app,files)\n",
    "app.config['SQLALCHEMY_DATABASE_URI'] = 'sqlite:///static/uploadsDB/filestorage.db'"
   ]
  },
  {
   "cell_type": "code",
   "execution_count": null,
   "metadata": {
    "collapsed": true
   },
   "outputs": [],
   "source": [
    "# Saving Data To Database Storage\n",
    "class FileContents(db.Model):\n",
    "    id=db.Column(db.Integer,primary_key=True)\n",
    "    name=db.Column(db.String(300))\n",
    "    modeldata=db.Column(db.String(300))\n",
    "    data=db.Column(db.LargeBinary)\n",
    "    "
   ]
  },
  {
   "cell_type": "code",
   "execution_count": null,
   "metadata": {
    "collapsed": true
   },
   "outputs": [],
   "source": [
    "@app.route(\"/\")\n",
    "def index():\n",
    "    return render_template(\"index.html\")"
   ]
  },
  {
   "cell_type": "code",
   "execution_count": null,
   "metadata": {
    "collapsed": true
   },
   "outputs": [],
   "source": [
    "# Route for our Processing and Details Page\n",
    "@app.route(\"/dataupload\",method=[\"GET\",\"POST\"])\n",
    "def dataupload():\n",
    "\tif request.method == 'POST' and 'csv_data' in request.files:\n",
    "\t\tfile = request.files['csv_data']\n",
    "\t\tfilename = secure_filename(file.filename)\n",
    "\t\t# os.path.join is used so that paths work in every operating system\n",
    "        # file.save(os.path.join(\"wherever\",\"you\",\"want\",filename))\n",
    "\t\tfile.save(os.path.join('static/uploadsDB',filename))\n",
    "\t\tfullfile = os.path.join('static/uploadsDB',filename)\n",
    "\n",
    "\t\t# For Time\n",
    "\t\tdate = str(datetime.datetime.fromtimestamp(time.time()).strftime(\"%Y-%m-%d %H:%M:%S\"))\n",
    "\n",
    "\t\t# EDA function\n",
    "\t\tdf = pd.read_csv(os.path.join('static/uploadsDB',filename))\n",
    "\t\tdf_size = df.size\n",
    "\t\tdf_shape = df.shape\n",
    "\t\tdf_columns = list(df.columns)\n",
    "\t\tdf_targetname = df[df.columns[-1]].name\n",
    "\t\tdf_featurenames = df_columns[0:-1] # select all columns till last column\n",
    "\t\tdf_Xfeatures = df.iloc[:,0:-1] \n",
    "\t\tdf_Ylabels = df[df.columns[-1]] # Select the last column as target\n",
    "\t\t# same as above df_Ylabels = df.iloc[:,-1]\n",
    "\t\t\n",
    "\n",
    "\t\t# Model Building\n",
    "\t\tX = df_Xfeatures\n",
    "\t\tY = df_Ylabels\n",
    "\t\tseed = 7\n",
    "\t\t# prepare models\n",
    "\t\tmodels = []\n",
    "\t\tmodels.append(('LR', LogisticRegression()))\n",
    "\t\tmodels.append(('LDA', LinearDiscriminantAnalysis()))\n",
    "\t\tmodels.append(('KNN', KNeighborsClassifier()))\n",
    "\t\tmodels.append(('CART', DecisionTreeClassifier()))\n",
    "\t\tmodels.append(('NB', GaussianNB()))\n",
    "\t\tmodels.append(('SVM', SVC()))\n",
    "\t\t# evaluate each model in turn\n",
    "\t\t\n",
    "\n",
    "\t\tresults = []\n",
    "\t\tnames = []\n",
    "\t\tallmodels = []\n",
    "\t\tscoring = 'accuracy'\n",
    "\t\tfor name, model in models:\n",
    "\t\t\tkfold = model_selection.KFold(n_splits=10, random_state=seed)\n",
    "\t\t\tcv_results = model_selection.cross_val_score(model, X, Y, cv=kfold, scoring=scoring)\n",
    "\t\t\tresults.append(cv_results)\n",
    "\t\t\tnames.append(name)\n",
    "\t\t\tmsg = \"%s: %f (%f)\" % (name, cv_results.mean(), cv_results.std())\n",
    "\t\t\tallmodels.append(msg)\n",
    "\t\t\tmodel_results = results\n",
    "\t\t\tmodel_names = names \n",
    "\t\t\t\n",
    "\t\t# Saving Results of Uploaded Files  to Sqlite DB\n",
    "\t\tnewfile = FileContents(name=file.filename,data=file.read(),modeldata=msg)\n",
    "\t\tdb.session.add(newfile)\n",
    "\t\tdb.session.commit()\t\t\n",
    "\t\t\n",
    "\treturn render_template('details.html',filename=filename,date=date,\n",
    "\t\tdf_size=df_size,\n",
    "\t\tdf_shape=df_shape,\n",
    "\t\tdf_columns =df_columns,\n",
    "\t\tdf_targetname =df_targetname,\n",
    "\t\tmodel_results = allmodels,\n",
    "\t\tmodel_names = names,\n",
    "\t\tfullfile = fullfile,\n",
    "\t\tdfplot = df\n",
    "\t\t)\n",
    "\n",
    "\n",
    "\n",
    "\n",
    "if __name__ == '__main__':\n",
    "\tapp.run(debug=True)"
   ]
  }
 ],
 "metadata": {
  "kernelspec": {
   "display_name": "Python 3",
   "language": "python",
   "name": "python3"
  },
  "language_info": {
   "codemirror_mode": {
    "name": "ipython",
    "version": 3
   },
   "file_extension": ".py",
   "mimetype": "text/x-python",
   "name": "python",
   "nbconvert_exporter": "python",
   "pygments_lexer": "ipython3",
   "version": "3.6.2"
  }
 },
 "nbformat": 4,
 "nbformat_minor": 2
}
